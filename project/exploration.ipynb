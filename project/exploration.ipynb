{
 "cells": [
  {
   "cell_type": "markdown",
   "id": "d8f7348e",
   "metadata": {},
   "source": [
    "## Load the Data"
   ]
  },
  {
   "cell_type": "code",
   "execution_count": 1,
   "id": "16a5a98e",
   "metadata": {},
   "outputs": [],
   "source": [
    "import pandas as pd"
   ]
  },
  {
   "cell_type": "markdown",
   "id": "363dede4",
   "metadata": {},
   "source": [
    "### Data exploration - Data source 1\n",
    "Print some basic information about data source 1."
   ]
  },
  {
   "cell_type": "code",
   "execution_count": 2,
   "id": "eb1978fb",
   "metadata": {},
   "outputs": [
    {
     "data": {
      "text/html": [
       "<div>\n",
       "<style scoped>\n",
       "    .dataframe tbody tr th:only-of-type {\n",
       "        vertical-align: middle;\n",
       "    }\n",
       "\n",
       "    .dataframe tbody tr th {\n",
       "        vertical-align: top;\n",
       "    }\n",
       "\n",
       "    .dataframe thead th {\n",
       "        text-align: right;\n",
       "    }\n",
       "</style>\n",
       "<table border=\"1\" class=\"dataframe\">\n",
       "  <thead>\n",
       "    <tr style=\"text-align: right;\">\n",
       "      <th></th>\n",
       "      <th>Area Code</th>\n",
       "      <th>Area Code (M49)</th>\n",
       "      <th>Area</th>\n",
       "      <th>Months Code</th>\n",
       "      <th>Months</th>\n",
       "      <th>Element Code</th>\n",
       "      <th>Element</th>\n",
       "      <th>Unit</th>\n",
       "      <th>Y1961</th>\n",
       "      <th>Y1961F</th>\n",
       "      <th>...</th>\n",
       "      <th>Y2018</th>\n",
       "      <th>Y2018F</th>\n",
       "      <th>Y2019</th>\n",
       "      <th>Y2019F</th>\n",
       "      <th>Y2020</th>\n",
       "      <th>Y2020F</th>\n",
       "      <th>Y2021</th>\n",
       "      <th>Y2021F</th>\n",
       "      <th>Y2022</th>\n",
       "      <th>Y2022F</th>\n",
       "    </tr>\n",
       "  </thead>\n",
       "  <tbody>\n",
       "    <tr>\n",
       "      <th>0</th>\n",
       "      <td>2</td>\n",
       "      <td>'004</td>\n",
       "      <td>Afghanistan</td>\n",
       "      <td>7001</td>\n",
       "      <td>January</td>\n",
       "      <td>7271</td>\n",
       "      <td>Temperature change</td>\n",
       "      <td>°C</td>\n",
       "      <td>0.756</td>\n",
       "      <td>E</td>\n",
       "      <td>...</td>\n",
       "      <td>2.051</td>\n",
       "      <td>E</td>\n",
       "      <td>2.858</td>\n",
       "      <td>E</td>\n",
       "      <td>-0.681</td>\n",
       "      <td>E</td>\n",
       "      <td>0.559</td>\n",
       "      <td>E</td>\n",
       "      <td>2.284</td>\n",
       "      <td>E</td>\n",
       "    </tr>\n",
       "    <tr>\n",
       "      <th>1</th>\n",
       "      <td>2</td>\n",
       "      <td>'004</td>\n",
       "      <td>Afghanistan</td>\n",
       "      <td>7001</td>\n",
       "      <td>January</td>\n",
       "      <td>6078</td>\n",
       "      <td>Standard Deviation</td>\n",
       "      <td>°C</td>\n",
       "      <td>1.964</td>\n",
       "      <td>E</td>\n",
       "      <td>...</td>\n",
       "      <td>1.964</td>\n",
       "      <td>E</td>\n",
       "      <td>1.964</td>\n",
       "      <td>E</td>\n",
       "      <td>1.964</td>\n",
       "      <td>E</td>\n",
       "      <td>1.964</td>\n",
       "      <td>E</td>\n",
       "      <td>1.964</td>\n",
       "      <td>E</td>\n",
       "    </tr>\n",
       "    <tr>\n",
       "      <th>2</th>\n",
       "      <td>2</td>\n",
       "      <td>'004</td>\n",
       "      <td>Afghanistan</td>\n",
       "      <td>7002</td>\n",
       "      <td>February</td>\n",
       "      <td>7271</td>\n",
       "      <td>Temperature change</td>\n",
       "      <td>°C</td>\n",
       "      <td>-1.766</td>\n",
       "      <td>E</td>\n",
       "      <td>...</td>\n",
       "      <td>2.714</td>\n",
       "      <td>E</td>\n",
       "      <td>0.067</td>\n",
       "      <td>E</td>\n",
       "      <td>2.500</td>\n",
       "      <td>E</td>\n",
       "      <td>4.086</td>\n",
       "      <td>E</td>\n",
       "      <td>2.371</td>\n",
       "      <td>E</td>\n",
       "    </tr>\n",
       "    <tr>\n",
       "      <th>3</th>\n",
       "      <td>2</td>\n",
       "      <td>'004</td>\n",
       "      <td>Afghanistan</td>\n",
       "      <td>7002</td>\n",
       "      <td>February</td>\n",
       "      <td>6078</td>\n",
       "      <td>Standard Deviation</td>\n",
       "      <td>°C</td>\n",
       "      <td>2.602</td>\n",
       "      <td>E</td>\n",
       "      <td>...</td>\n",
       "      <td>2.602</td>\n",
       "      <td>E</td>\n",
       "      <td>2.602</td>\n",
       "      <td>E</td>\n",
       "      <td>2.602</td>\n",
       "      <td>E</td>\n",
       "      <td>2.602</td>\n",
       "      <td>E</td>\n",
       "      <td>2.602</td>\n",
       "      <td>E</td>\n",
       "    </tr>\n",
       "    <tr>\n",
       "      <th>4</th>\n",
       "      <td>2</td>\n",
       "      <td>'004</td>\n",
       "      <td>Afghanistan</td>\n",
       "      <td>7003</td>\n",
       "      <td>March</td>\n",
       "      <td>7271</td>\n",
       "      <td>Temperature change</td>\n",
       "      <td>°C</td>\n",
       "      <td>0.458</td>\n",
       "      <td>E</td>\n",
       "      <td>...</td>\n",
       "      <td>4.533</td>\n",
       "      <td>E</td>\n",
       "      <td>0.293</td>\n",
       "      <td>E</td>\n",
       "      <td>0.555</td>\n",
       "      <td>E</td>\n",
       "      <td>2.480</td>\n",
       "      <td>E</td>\n",
       "      <td>3.598</td>\n",
       "      <td>E</td>\n",
       "    </tr>\n",
       "  </tbody>\n",
       "</table>\n",
       "<p>5 rows × 132 columns</p>\n",
       "</div>"
      ],
      "text/plain": [
       "   Area Code Area Code (M49)         Area  Months Code    Months  \\\n",
       "0          2            '004  Afghanistan         7001   January   \n",
       "1          2            '004  Afghanistan         7001   January   \n",
       "2          2            '004  Afghanistan         7002  February   \n",
       "3          2            '004  Afghanistan         7002  February   \n",
       "4          2            '004  Afghanistan         7003     March   \n",
       "\n",
       "   Element Code             Element Unit  Y1961 Y1961F  ...  Y2018 Y2018F  \\\n",
       "0          7271  Temperature change   °C  0.756      E  ...  2.051      E   \n",
       "1          6078  Standard Deviation   °C  1.964      E  ...  1.964      E   \n",
       "2          7271  Temperature change   °C -1.766      E  ...  2.714      E   \n",
       "3          6078  Standard Deviation   °C  2.602      E  ...  2.602      E   \n",
       "4          7271  Temperature change   °C  0.458      E  ...  4.533      E   \n",
       "\n",
       "   Y2019 Y2019F  Y2020 Y2020F  Y2021 Y2021F  Y2022 Y2022F  \n",
       "0  2.858      E -0.681      E  0.559      E  2.284      E  \n",
       "1  1.964      E  1.964      E  1.964      E  1.964      E  \n",
       "2  0.067      E  2.500      E  4.086      E  2.371      E  \n",
       "3  2.602      E  2.602      E  2.602      E  2.602      E  \n",
       "4  0.293      E  0.555      E  2.480      E  3.598      E  \n",
       "\n",
       "[5 rows x 132 columns]"
      ]
     },
     "execution_count": 2,
     "metadata": {},
     "output_type": "execute_result"
    }
   ],
   "source": [
    "# get data from temperature table\n",
    "temp_df = pd.read_sql_table('temperature', 'sqlite:///zylesto.sqlite')\n",
    "# print first 5 rows of the table\n",
    "temp_df.head()"
   ]
  },
  {
   "cell_type": "code",
   "execution_count": 4,
   "id": "67f4faa9",
   "metadata": {},
   "outputs": [
    {
     "name": "stdout",
     "output_type": "stream",
     "text": [
      "<class 'pandas.core.frame.DataFrame'>\n",
      "RangeIndex: 9656 entries, 0 to 9655\n",
      "Columns: 132 entries, Area Code to Y2022F\n",
      "dtypes: float64(62), int64(3), object(67)\n",
      "memory usage: 9.7+ MB\n"
     ]
    }
   ],
   "source": [
    "temp_df.info()"
   ]
  },
  {
   "cell_type": "code",
   "execution_count": 14,
   "id": "8eb5c5df",
   "metadata": {},
   "outputs": [
    {
     "data": {
      "text/plain": [
       "Area Code             0\n",
       "Area Code (M49)       0\n",
       "Area                  0\n",
       "Months Code           0\n",
       "Months                0\n",
       "                   ... \n",
       "Y1965              1420\n",
       "Y1964              1421\n",
       "Y2001              1425\n",
       "Y1977              1444\n",
       "Y1991              1468\n",
       "Length: 132, dtype: int64"
      ]
     },
     "execution_count": 14,
     "metadata": {},
     "output_type": "execute_result"
    }
   ],
   "source": [
    "# check if data contains missing values\n",
    "temp_df.isna().sum().sort_values()"
   ]
  },
  {
   "cell_type": "markdown",
   "id": "64d98f4d",
   "metadata": {},
   "source": [
    "### Data exploration - Data source 2\n",
    "Print some basic information about data source 2."
   ]
  },
  {
   "cell_type": "code",
   "execution_count": 3,
   "id": "eb45e72b",
   "metadata": {},
   "outputs": [
    {
     "data": {
      "text/html": [
       "<div>\n",
       "<style scoped>\n",
       "    .dataframe tbody tr th:only-of-type {\n",
       "        vertical-align: middle;\n",
       "    }\n",
       "\n",
       "    .dataframe tbody tr th {\n",
       "        vertical-align: top;\n",
       "    }\n",
       "\n",
       "    .dataframe thead th {\n",
       "        text-align: right;\n",
       "    }\n",
       "</style>\n",
       "<table border=\"1\" class=\"dataframe\">\n",
       "  <thead>\n",
       "    <tr style=\"text-align: right;\">\n",
       "      <th></th>\n",
       "      <th>Open</th>\n",
       "      <th>High</th>\n",
       "      <th>Low</th>\n",
       "      <th>Close</th>\n",
       "      <th>Inflation</th>\n",
       "      <th>country</th>\n",
       "      <th>ISO3</th>\n",
       "      <th>date</th>\n",
       "    </tr>\n",
       "  </thead>\n",
       "  <tbody>\n",
       "    <tr>\n",
       "      <th>0</th>\n",
       "      <td>0.53</td>\n",
       "      <td>0.54</td>\n",
       "      <td>0.53</td>\n",
       "      <td>0.53</td>\n",
       "      <td>NaN</td>\n",
       "      <td>Afghanistan</td>\n",
       "      <td>AFG</td>\n",
       "      <td>2007-01-01</td>\n",
       "    </tr>\n",
       "    <tr>\n",
       "      <th>1</th>\n",
       "      <td>0.53</td>\n",
       "      <td>0.54</td>\n",
       "      <td>0.53</td>\n",
       "      <td>0.53</td>\n",
       "      <td>NaN</td>\n",
       "      <td>Afghanistan</td>\n",
       "      <td>AFG</td>\n",
       "      <td>2007-02-01</td>\n",
       "    </tr>\n",
       "    <tr>\n",
       "      <th>2</th>\n",
       "      <td>0.54</td>\n",
       "      <td>0.54</td>\n",
       "      <td>0.53</td>\n",
       "      <td>0.53</td>\n",
       "      <td>NaN</td>\n",
       "      <td>Afghanistan</td>\n",
       "      <td>AFG</td>\n",
       "      <td>2007-03-01</td>\n",
       "    </tr>\n",
       "    <tr>\n",
       "      <th>3</th>\n",
       "      <td>0.53</td>\n",
       "      <td>0.55</td>\n",
       "      <td>0.53</td>\n",
       "      <td>0.55</td>\n",
       "      <td>NaN</td>\n",
       "      <td>Afghanistan</td>\n",
       "      <td>AFG</td>\n",
       "      <td>2007-04-01</td>\n",
       "    </tr>\n",
       "    <tr>\n",
       "      <th>4</th>\n",
       "      <td>0.56</td>\n",
       "      <td>0.57</td>\n",
       "      <td>0.56</td>\n",
       "      <td>0.57</td>\n",
       "      <td>NaN</td>\n",
       "      <td>Afghanistan</td>\n",
       "      <td>AFG</td>\n",
       "      <td>2007-05-01</td>\n",
       "    </tr>\n",
       "  </tbody>\n",
       "</table>\n",
       "</div>"
      ],
      "text/plain": [
       "   Open  High   Low  Close  Inflation      country ISO3        date\n",
       "0  0.53  0.54  0.53   0.53        NaN  Afghanistan  AFG  2007-01-01\n",
       "1  0.53  0.54  0.53   0.53        NaN  Afghanistan  AFG  2007-02-01\n",
       "2  0.54  0.54  0.53   0.53        NaN  Afghanistan  AFG  2007-03-01\n",
       "3  0.53  0.55  0.53   0.55        NaN  Afghanistan  AFG  2007-04-01\n",
       "4  0.56  0.57  0.56   0.57        NaN  Afghanistan  AFG  2007-05-01"
      ]
     },
     "execution_count": 3,
     "metadata": {},
     "output_type": "execute_result"
    }
   ],
   "source": [
    "# get data from food_price_inflation table\n",
    "food_df = pd.read_sql_table('food_price_inflation', 'sqlite:///zylesto.sqlite')\n",
    "# print first 5 rows of the table\n",
    "food_df.head()"
   ]
  },
  {
   "cell_type": "code",
   "execution_count": 5,
   "id": "4a092ab3",
   "metadata": {},
   "outputs": [
    {
     "name": "stdout",
     "output_type": "stream",
     "text": [
      "<class 'pandas.core.frame.DataFrame'>\n",
      "RangeIndex: 4798 entries, 0 to 4797\n",
      "Data columns (total 8 columns):\n",
      " #   Column     Non-Null Count  Dtype  \n",
      "---  ------     --------------  -----  \n",
      " 0   Open       4734 non-null   float64\n",
      " 1   High       4734 non-null   float64\n",
      " 2   Low        4734 non-null   float64\n",
      " 3   Close      4734 non-null   float64\n",
      " 4   Inflation  4434 non-null   float64\n",
      " 5   country    4798 non-null   object \n",
      " 6   ISO3       4798 non-null   object \n",
      " 7   date       4798 non-null   object \n",
      "dtypes: float64(5), object(3)\n",
      "memory usage: 300.0+ KB\n"
     ]
    }
   ],
   "source": [
    "food_df.info()"
   ]
  },
  {
   "cell_type": "code",
   "execution_count": 15,
   "id": "0bc024b5",
   "metadata": {},
   "outputs": [
    {
     "data": {
      "text/plain": [
       "country        0\n",
       "ISO3           0\n",
       "date           0\n",
       "Open          64\n",
       "High          64\n",
       "Low           64\n",
       "Close         64\n",
       "Inflation    364\n",
       "dtype: int64"
      ]
     },
     "execution_count": 15,
     "metadata": {},
     "output_type": "execute_result"
    }
   ],
   "source": [
    "# check if data contains missing values\n",
    "food_df.isna().sum().sort_values()"
   ]
  }
 ],
 "metadata": {
  "kernelspec": {
   "display_name": "Python 3 (ipykernel)",
   "language": "python",
   "name": "python3"
  },
  "language_info": {
   "codemirror_mode": {
    "name": "ipython",
    "version": 3
   },
   "file_extension": ".py",
   "mimetype": "text/x-python",
   "name": "python",
   "nbconvert_exporter": "python",
   "pygments_lexer": "ipython3",
   "version": "3.10.11"
  }
 },
 "nbformat": 4,
 "nbformat_minor": 5
}
